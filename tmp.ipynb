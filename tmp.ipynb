{
 "cells": [
  {
   "cell_type": "code",
   "execution_count": 1,
   "metadata": {},
   "outputs": [],
   "source": [
    "from src.data_processing import get_clean_data "
   ]
  },
  {
   "cell_type": "code",
   "execution_count": 3,
   "metadata": {},
   "outputs": [],
   "source": [
    "train_tweets, train_labels, test_tweets, test_labels = get_clean_data(\n",
    "    \"./data/datasets/ghosh/train_sample.txt\",\n",
    "    \"./data/datasets/ghosh/test_sample.txt\"\n",
    ")"
   ]
  },
  {
   "cell_type": "code",
   "execution_count": 4,
   "metadata": {},
   "outputs": [
    {
     "data": {
      "text/plain": [
       "0     It feel like just a few day ago it be the last...\n",
       "1     I love my mom . No matter what we go through ,...\n",
       "2                 Bump that music ... i be try to sleep\n",
       "3     Mexican and black joke be pretty much the same...\n",
       "4                           How to find work you love :\n",
       "                            ...                        \n",
       "95    @user I have be on a win streak smiling face w...\n",
       "96         Nothing like a little Biochem in the morning\n",
       "97    Listen to Smoke One (Prod . by Astray ) by Hat...\n",
       "98    Should we follow our president on insta ? not ...\n",
       "99    We have have such a fantastic day today . LO b...\n",
       "Name: Text, Length: 100, dtype: object"
      ]
     },
     "execution_count": 4,
     "metadata": {},
     "output_type": "execute_result"
    }
   ],
   "source": [
    "train_tweets"
   ]
  }
 ],
 "metadata": {
  "kernelspec": {
   "display_name": "honlp",
   "language": "python",
   "name": "python3"
  },
  "language_info": {
   "codemirror_mode": {
    "name": "ipython",
    "version": 3
   },
   "file_extension": ".py",
   "mimetype": "text/x-python",
   "name": "python",
   "nbconvert_exporter": "python",
   "pygments_lexer": "ipython3",
   "version": "3.11.11"
  }
 },
 "nbformat": 4,
 "nbformat_minor": 2
}
